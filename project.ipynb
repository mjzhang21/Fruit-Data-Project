{
 "cells": [
  {
   "cell_type": "code",
   "execution_count": 1,
   "id": "89f54308",
   "metadata": {},
   "outputs": [],
   "source": [
    "import requests\n",
    "import sqlite3\n",
    "import pandas as pd\n",
    "import matplotlib.pyplot as plt\n",
    "import seaborn as sns"
   ]
  },
  {
   "cell_type": "code",
   "execution_count": null,
   "id": "cc5110b1",
   "metadata": {},
   "outputs": [
    {
     "name": "stdout",
     "output_type": "stream",
     "text": [
      "         name  id      family         order      genus  nutritions.calories  \\\n",
      "0   Persimmon  52   Ebenaceae       Rosales  Diospyros                   81   \n",
      "1  Strawberry   3    Rosaceae       Rosales   Fragaria                   29   \n",
      "2      Banana   1    Musaceae  Zingiberales       Musa                   96   \n",
      "3      Tomato   5  Solanaceae     Solanales    Solanum                   74   \n",
      "4        Pear   4    Rosaceae       Rosales      Pyrus                   57   \n",
      "\n",
      "   nutritions.fat  nutritions.sugar  nutritions.carbohydrates  \\\n",
      "0             0.0              18.0                      18.0   \n",
      "1             0.4               5.4                       5.5   \n",
      "2             0.2              17.2                      22.0   \n",
      "3             0.2               2.6                       3.9   \n",
      "4             0.1              10.0                      15.0   \n",
      "\n",
      "   nutritions.protein  \n",
      "0                 0.0  \n",
      "1                 0.8  \n",
      "2                 1.0  \n",
      "3                 0.9  \n",
      "4                 0.4  \n"
     ]
    }
   ],
   "source": [
    "url = \"https://www.fruityvice.com/api/fruit/all\"\n",
    "response = requests.get(url)\n",
    "if response.status_code == 200:\n",
    "    data = response.json()\n",
    "    df = pd.json_normalize(data)\n",
    "    print(df.head())\n",
    "else:\n",
    "    print(\"Request failed:\", response.status_code)"
   ]
  },
  {
   "cell_type": "code",
   "execution_count": null,
   "id": "bf49bbe8",
   "metadata": {},
   "outputs": [],
   "source": [
    "conn = sqlite3.connect(\"fruits.db\")\n",
    "df.to_sql(\"fruits\", conn, if_exists=\"replace\", index=False)\n",
    "conn.close()"
   ]
  }
 ],
 "metadata": {
  "kernelspec": {
   "display_name": "sqllite_and_datavis",
   "language": "python",
   "name": "python3"
  },
  "language_info": {
   "codemirror_mode": {
    "name": "ipython",
    "version": 3
   },
   "file_extension": ".py",
   "mimetype": "text/x-python",
   "name": "python",
   "nbconvert_exporter": "python",
   "pygments_lexer": "ipython3",
   "version": "3.13.3"
  }
 },
 "nbformat": 4,
 "nbformat_minor": 5
}
